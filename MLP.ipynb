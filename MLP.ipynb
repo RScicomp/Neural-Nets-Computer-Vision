{
  "nbformat": 4,
  "nbformat_minor": 0,
  "metadata": {
    "colab": {
      "name": "Copy of Exploration.ipynb",
      "provenance": [],
      "collapsed_sections": []
    },
    "kernelspec": {
      "name": "python3",
      "display_name": "Python 3"
    }
  },
  "cells": [
    {
      "cell_type": "code",
      "metadata": {
        "id": "lBGDkQg03-kk",
        "colab_type": "code",
        "colab": {}
      },
      "source": [
        "import numpy as np\n",
        "import math\n",
        "import torch\n",
        "import torchvision\n",
        "import torchvision.transforms as transforms"
      ],
      "execution_count": 0,
      "outputs": []
    },
    {
      "cell_type": "code",
      "metadata": {
        "id": "6SThknWY5oD7",
        "colab_type": "code",
        "outputId": "0daf74fd-9ef6-4462-e1c1-fe7ecc536e40",
        "colab": {
          "base_uri": "https://localhost:8080/",
          "height": 54
        }
      },
      "source": [
        "transform = transforms.Compose(\n",
        "    [transforms.ToTensor(),\n",
        "     transforms.Normalize((0.5, 0.5, 0.5), (0.5, 0.5, 0.5))])\n",
        "\n",
        "trainset = torchvision.datasets.CIFAR10(root='./data', train=True,\n",
        "                                        download=True, transform=transform)\n",
        "trainloader = torch.utils.data.DataLoader(trainset,\n",
        "                                          shuffle=True, num_workers=2)\n",
        "\n",
        "testset = torchvision.datasets.CIFAR10(root='./data', train=False,\n",
        "                                       download=True, transform=transform)\n",
        "testloader = torch.utils.data.DataLoader(testset,\n",
        "                                         shuffle=False, num_workers=2)\n",
        "\n",
        "classes = ('plane', 'car', 'bird', 'cat',\n",
        "           'deer', 'dog', 'frog', 'horse', 'ship', 'truck')"
      ],
      "execution_count": 196,
      "outputs": [
        {
          "output_type": "stream",
          "text": [
            "Files already downloaded and verified\n",
            "Files already downloaded and verified\n"
          ],
          "name": "stdout"
        }
      ]
    },
    {
      "cell_type": "code",
      "metadata": {
        "id": "HEJ7MRRR6XV3",
        "colab_type": "code",
        "outputId": "21d040a0-5201-4114-a6ce-30e6f7dff3b4",
        "colab": {
          "base_uri": "https://localhost:8080/",
          "height": 284
        }
      },
      "source": [
        "#https://pytorch.org/tutorials/beginner/blitz/cifar10_tutorial.html\n",
        "#Let us show some of the training images, for fun.\n",
        "import matplotlib.pyplot as plt\n",
        "import numpy as np\n",
        "\n",
        "# functions to show an image\n",
        "\n",
        "\n",
        "def imshow(img):\n",
        "    img = img / 2 + 0.5     # unnormalize\n",
        "    npimg = img.numpy()\n",
        "    plt.imshow(np.transpose(npimg, (1, 2, 0)))\n",
        "\n",
        "\n",
        "# get some random training images\n",
        "dataiter = iter(trainloader)\n",
        "images, labels = dataiter.next()\n",
        "\n",
        "# show images\n",
        "imshow(torchvision.utils.make_grid(images))\n",
        "# print labels\n",
        "print(' '.join('%5s' % classes[labels[j]] for j in range(1)))"
      ],
      "execution_count": 197,
      "outputs": [
        {
          "output_type": "stream",
          "text": [
            "  car\n"
          ],
          "name": "stdout"
        },
        {
          "output_type": "display_data",
          "data": {
            "image/png": "[encoded data removed]",
            "text/plain": [
              "<Figure size 432x288 with 1 Axes>"
            ]
          },
          "metadata": {
            "tags": []
          }
        }
      ]
    },
    {
      "cell_type": "code",
      "metadata": {
        "id": "lkKhhsWWPyV9",
        "colab_type": "code",
        "outputId": "131e579f-ec71-4a34-a555-a8218eea57fe",
        "colab": {
          "base_uri": "https://localhost:8080/",
          "height": 127
        }
      },
      "source": [
        "#getting the x(2d matrix of 50000*3072, input images), and y(1*3072, output label);\n",
        "tmpTrain = trainloader.dataset.data # shape of 50000*32*32*3 need to transform to 50000*3072\n",
        "x,y1,y2,y3 = tmpTrain.shape\n",
        "trainX = np.zeros([x, y1*y2*y3])\n",
        "tmpTrainY = trainloader.dataset.targets\n",
        "trainY = np.zeros([len(tmpTrainY), len(classes)])\n",
        "for i in range(len(tmpTrainY)):\n",
        "  trainY[i][tmpTrainY[i]] = 1\n",
        "tmpTest = testloader.dataset.data # shape of 10000*32*32*3 need to transform to 10000*3072\n",
        "xx, y4, y5, y6 = tmpTest.shape\n",
        "testY = testloader.dataset.targets\n",
        "testX = np.zeros([xx, y4*y5*y6])\n",
        "for i in range(x):\n",
        "  trainX[i] = tmpTrain[i].flatten()\n",
        "\n",
        "trainX = trainX / np.linalg.norm(trainX) \n",
        "for j in range(xx):\n",
        "  testX[j] = tmpTest[j].flatten()\n",
        "\n",
        "testX = testX / np.linalg.norm(testX)\n",
        "\n",
        "print(\"the shape of matrix trainX\" + str(trainX.shape))\n",
        "print(\"the size of trainY \" + str(trainY.shape))\n",
        "print(\"the shape of matrix testX\" + str(testX.shape))\n",
        "print(\"the size of testY \" + str(len(testY)))\n",
        "print(trainX[15])\n",
        "\n",
        "\n"
      ],
      "execution_count": 276,
      "outputs": [
        {
          "output_type": "stream",
          "text": [
            "the shape of matrix trainX(50000, 3072)\n",
            "the size of trainY (50000, 10)\n",
            "the shape of matrix testX(10000, 3072)\n",
            "the size of testY 10000\n",
            "[5.90271027e-05 9.91655325e-05 1.36352607e-04 ... 9.56239063e-05\n",
            " 1.09200140e-04 1.19234747e-04]\n"
          ],
          "name": "stdout"
        }
      ]
    },
    {
      "cell_type": "code",
      "metadata": {
        "id": "6rFqSD03GiWM",
        "colab_type": "code",
        "colab": {}
      },
      "source": [
        "#activation functions\n",
        "\n",
        "def relu(x):\n",
        "  N, D = x.shape\n",
        "  ans = np.zeros([N,D])\n",
        "  for i in range(N):\n",
        "    for j in range(D):\n",
        "      if x[i][j] > 0:\n",
        "        ans[i][j] = x[i][j]\n",
        "      else:\n",
        "        ans[i][j] = 0\n",
        "  return ans\n",
        "\n",
        "def sigmoid(x):\n",
        "  N, D = x.shape\n",
        "  ans = np.zeros([N,D])\n",
        "  for i in range(N):\n",
        "    for j in range(D):\n",
        "      try:\n",
        "        ans[i][j] = 1/(1+math.exp(-x[i][j]))\n",
        "      except OverflowError:\n",
        "        if(x[i][j])>0:\n",
        "          ans[i][j] = 1\n",
        "        else:\n",
        "          ans[i][j] = 0\n",
        "  return ans\n"
      ],
      "execution_count": 0,
      "outputs": []
    },
    {
      "cell_type": "code",
      "metadata": {
        "id": "D5kBvCH1PwjL",
        "colab_type": "code",
        "colab": {}
      },
      "source": [
        "#define weights for different layers, put them in a list called Ws, each weight has a shape of size(l-1)*size(l)\n",
        "layerNumber = [1024,100] #number of hidden layers and number of nodes in each layer\n",
        "AV = sigmoid #activation function that we use \n",
        "Ws = []\n",
        "N,D = trainX.shape\n",
        "start = D\n",
        "N,DD =trainY.shape\n",
        "end = layerNumber[0]\n",
        "w = np.random.randn(start, end)*.01\n",
        "for i in range(start):\n",
        "  for j in range(end):\n",
        "    w[i][j] = 0\n",
        "Ws.append(w)\n",
        "for i in range(len(layerNumber)):\n",
        "  start = layerNumber[i]\n",
        "  if i+1 == len(layerNumber):\n",
        "    end = DD\n",
        "  else:\n",
        "    end = layerNumber[i+1]\n",
        "  w = np.random.randn(start, end)*.01\n",
        "  Ws.append(w)"
      ],
      "execution_count": 0,
      "outputs": []
    },
    {
      "cell_type": "code",
      "metadata": {
        "id": "S8eu-zmmTTA5",
        "colab_type": "code",
        "colab": {}
      },
      "source": [
        "Zs = [] #hidden layers\n",
        "\n",
        "def getYhead(X):\n",
        "  Y = []\n",
        "  N,D = X.shape\n",
        "  Zs.clear()\n",
        "  for layer in layerNumber:\n",
        "    Zs.append(np.zeros([N,layer]))\n",
        "  Yhead = np.zeros([N, len(classes)])\n",
        "  tmp = X\n",
        "  for i in range(len(Ws)-1):\n",
        "    NN,DD = tmp.shape\n",
        "    tmp = AV(np.dot(tmp, Ws[i])) #Doing activation function for the Zs in layer\n",
        "    Zs[i] = tmp\n",
        "  Y = sigmoid(np.dot(tmp, Ws[len(Ws)-1])) #Doing sigmoid for final layer since it is binary classification\n",
        "  return Y\n",
        "\n"
      ],
      "execution_count": 0,
      "outputs": []
    },
    {
      "cell_type": "code",
      "metadata": {
        "id": "BUzlEIeXWltp",
        "colab_type": "code",
        "colab": {}
      },
      "source": [
        "#Cost of one training result\n",
        "def cost(Y1, Y2):\n",
        "  total = 0.0\n",
        "  for i in range(len(Y1)):\n",
        "    value = (Y1[i]-Y2[i])*(Y1[i]-Y2[i])\n",
        "    total = total + value\n",
        "  return total\n",
        "\n",
        "\n",
        "#Average cost of all training result\n",
        "def averageCost(Y1, Y2):\n",
        "  N,D = Y1.shape\n",
        "  total = 0.0\n",
        "  for i in range(N):\n",
        "    total = total + cost(Y1[i],Y2[i])\n",
        "  return total/N"
      ],
      "execution_count": 0,
      "outputs": []
    },
    {
      "cell_type": "code",
      "metadata": {
        "id": "q0cngWwPgyDg",
        "colab_type": "code",
        "colab": {
          "base_uri": "https://localhost:8080/",
          "height": 72
        },
        "outputId": "26123018-289b-4674-a0e8-d3f90ef318a8"
      },
      "source": [
        "\n",
        "\n",
        "def gradient(X, Y):\n",
        "  N,D = X.shape\n",
        "  Yh = getYhead(X)\n",
        "  print(\"Average cost so far \" + str(averageCost(Yh, Y)))\n",
        "  dY = 2*(Yh - Y)\n",
        "  dZnext =dY\n",
        "  WsReversed = Ws.copy()\n",
        "  ZsReversed = Zs.copy()\n",
        "  WsReversed.reverse() #reverse them since we need to calculate the dw from last layer to the first layer\n",
        "  ZsReversed.reverse()\n",
        "  dWs =[]\n",
        "  w = WsReversed[0]\n",
        "  z = ZsReversed[0]\n",
        "  dW = np.dot(z.T, dZnext*Yh*(1-Yh))\n",
        "  #Probably the problem come from here, I am trying to calculate the dWeight between last hidden layer and final layer\n",
        "  #now z is the last hidden layer, Yh is the final answer, in the video, derivative of w = al-1*(derivative of sigmoid)*dy\n",
        "  #al-1 is last hidden layer, Yh*(1-Yh) is the derivative of sigmoid, and dzNext is dy, however if Yh is all zero them dW\n",
        "  #would be zero and if will keeps like that, and I was like what???\n",
        "  dZnext = np.dot(dZnext*Yh*(1-Yh), w.T)\n",
        "  dWs.append(dW)\n",
        "  for i in range(1, len(WsReversed)):\n",
        "    w = WsReversed[i]\n",
        "    zPrevious = ZsReversed[i-1]\n",
        "    if i >= len(ZsReversed):\n",
        "      z = X.copy()\n",
        "    else:\n",
        "      z = ZsReversed[i]\n",
        "    Zn, Zd = zPrevious.shape\n",
        "    dW = np.dot(z.T, dZnext*zPrevious*(1-zPrevious))\n",
        "    dZnext = np.dot(dZnext*zPrevious*(1-zPrevious), w.T)\n",
        "    dWs.append(dW)\n",
        "  dWs.reverse()\n",
        "  return dWs\n",
        "\n",
        "def fit(X, Y, lr, eps, bsize):\n",
        "  N,D = X.shape\n",
        "  dW = np.inf*np.ones_like(Ws[len(Ws)-1])\n",
        "  while np.linalg.norm(dW) > eps:\n",
        "    minibatch = np.random.randint(N, size=(bsize))\n",
        "    g = gradient(X[minibatch,:], Y[minibatch,:])\n",
        "    for i in range(len(Ws)):\n",
        "      Ws[i] = Ws[i]-lr*g[i]\n",
        "    dW = g[len(Ws)-1]\n",
        "\n",
        "def getBiggestY(Y): \n",
        "  N,D = Y.shape\n",
        "  result = np.zeros([N])\n",
        "  for i in range(N):\n",
        "    biggest = 0\n",
        "    biggestNum = 0\n",
        "    for j in range(D):\n",
        "      if Y[i][j]>biggest:\n",
        "        biggestNum = j\n",
        "        biggest = Y[i][j]\n",
        "      result[i] = j\n",
        "  return result\n",
        "\n",
        "def predict(testX, testY):\n",
        "  print(\"predicting ...\")\n",
        "  yHead = getYhead(testX)\n",
        "  yResult = getBiggestY(yHead)\n",
        "  totalRight = 0.0\n",
        "  for i in range(len(testY)):\n",
        "    if(yResult[i] == testY[i]):\n",
        "      totalRight = totalRight+1\n",
        "  return totalRight/len(testY)\n",
        "\n",
        "\n",
        "fit(trainX, trainY, 0.1, 1e-09, 1000)\n",
        "print(predict(testX, testY))\n"
      ],
      "execution_count": 293,
      "outputs": [
        {
          "output_type": "stream",
          "text": [
            "Average cost so far 1.0\n",
            "predicting ...\n",
            "0.1\n"
          ],
          "name": "stdout"
        }
      ]
    }
  ]
}