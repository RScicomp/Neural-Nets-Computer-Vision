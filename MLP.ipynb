{
  "nbformat": 4,
  "nbformat_minor": 0,
  "metadata": {
    "colab": {
      "name": "Copy of Exploration.ipynb",
      "provenance": [],
      "collapsed_sections": []
    },
    "kernelspec": {
      "name": "python3",
      "display_name": "Python 3"
    },
    "widgets": {
      "application/vnd.jupyter.widget-state+json": {
        "479f7d41e2fb4381a4aeded116631c1c": {
          "model_module": "@jupyter-widgets/controls",
          "model_name": "HBoxModel",
          "state": {
            "_view_name": "HBoxView",
            "_dom_classes": [],
            "_model_name": "HBoxModel",
            "_view_module": "@jupyter-widgets/controls",
            "_model_module_version": "1.5.0",
            "_view_count": null,
            "_view_module_version": "1.5.0",
            "box_style": "",
            "layout": "IPY_MODEL_642eedd0d3c44b20b90789cdf48a8a4b",
            "_model_module": "@jupyter-widgets/controls",
            "children": [
              "IPY_MODEL_003f1bdcff104fe7816b3b61a8d1d7cc",
              "IPY_MODEL_762ef018f57f46eeb8abe7f33e14109e"
            ]
          }
        },
        "642eedd0d3c44b20b90789cdf48a8a4b": {
          "model_module": "@jupyter-widgets/base",
          "model_name": "LayoutModel",
          "state": {
            "_view_name": "LayoutView",
            "grid_template_rows": null,
            "right": null,
            "justify_content": null,
            "_view_module": "@jupyter-widgets/base",
            "overflow": null,
            "_model_module_version": "1.2.0",
            "_view_count": null,
            "flex_flow": null,
            "width": null,
            "min_width": null,
            "border": null,
            "align_items": null,
            "bottom": null,
            "_model_module": "@jupyter-widgets/base",
            "top": null,
            "grid_column": null,
            "overflow_y": null,
            "overflow_x": null,
            "grid_auto_flow": null,
            "grid_area": null,
            "grid_template_columns": null,
            "flex": null,
            "_model_name": "LayoutModel",
            "justify_items": null,
            "grid_row": null,
            "max_height": null,
            "align_content": null,
            "visibility": null,
            "align_self": null,
            "height": null,
            "min_height": null,
            "padding": null,
            "grid_auto_rows": null,
            "grid_gap": null,
            "max_width": null,
            "order": null,
            "_view_module_version": "1.2.0",
            "grid_template_areas": null,
            "object_position": null,
            "object_fit": null,
            "grid_auto_columns": null,
            "margin": null,
            "display": null,
            "left": null
          }
        },
        "003f1bdcff104fe7816b3b61a8d1d7cc": {
          "model_module": "@jupyter-widgets/controls",
          "model_name": "IntProgressModel",
          "state": {
            "_view_name": "ProgressView",
            "style": "IPY_MODEL_6d62e0ea4cb048909091d821fb2c756c",
            "_dom_classes": [],
            "description": "",
            "_model_name": "IntProgressModel",
            "bar_style": "info",
            "max": 1,
            "_view_module": "@jupyter-widgets/controls",
            "_model_module_version": "1.5.0",
            "value": 1,
            "_view_count": null,
            "_view_module_version": "1.5.0",
            "orientation": "horizontal",
            "min": 0,
            "description_tooltip": null,
            "_model_module": "@jupyter-widgets/controls",
            "layout": "IPY_MODEL_bc3c3bad08da4cc883de875e0bf336b2"
          }
        },
        "762ef018f57f46eeb8abe7f33e14109e": {
          "model_module": "@jupyter-widgets/controls",
          "model_name": "HTMLModel",
          "state": {
            "_view_name": "HTMLView",
            "style": "IPY_MODEL_0e1e88327b9a49f49ef6a02267f6c883",
            "_dom_classes": [],
            "description": "",
            "_model_name": "HTMLModel",
            "placeholder": "​",
            "_view_module": "@jupyter-widgets/controls",
            "_model_module_version": "1.5.0",
            "value": " 170500096/? [00:20&lt;00:00, 79262886.53it/s]",
            "_view_count": null,
            "_view_module_version": "1.5.0",
            "description_tooltip": null,
            "_model_module": "@jupyter-widgets/controls",
            "layout": "IPY_MODEL_9015c93a99f74925b7e0154ae23266c2"
          }
        },
        "6d62e0ea4cb048909091d821fb2c756c": {
          "model_module": "@jupyter-widgets/controls",
          "model_name": "ProgressStyleModel",
          "state": {
            "_view_name": "StyleView",
            "_model_name": "ProgressStyleModel",
            "description_width": "initial",
            "_view_module": "@jupyter-widgets/base",
            "_model_module_version": "1.5.0",
            "_view_count": null,
            "_view_module_version": "1.2.0",
            "bar_color": null,
            "_model_module": "@jupyter-widgets/controls"
          }
        },
        "bc3c3bad08da4cc883de875e0bf336b2": {
          "model_module": "@jupyter-widgets/base",
          "model_name": "LayoutModel",
          "state": {
            "_view_name": "LayoutView",
            "grid_template_rows": null,
            "right": null,
            "justify_content": null,
            "_view_module": "@jupyter-widgets/base",
            "overflow": null,
            "_model_module_version": "1.2.0",
            "_view_count": null,
            "flex_flow": null,
            "width": null,
            "min_width": null,
            "border": null,
            "align_items": null,
            "bottom": null,
            "_model_module": "@jupyter-widgets/base",
            "top": null,
            "grid_column": null,
            "overflow_y": null,
            "overflow_x": null,
            "grid_auto_flow": null,
            "grid_area": null,
            "grid_template_columns": null,
            "flex": null,
            "_model_name": "LayoutModel",
            "justify_items": null,
            "grid_row": null,
            "max_height": null,
            "align_content": null,
            "visibility": null,
            "align_self": null,
            "height": null,
            "min_height": null,
            "padding": null,
            "grid_auto_rows": null,
            "grid_gap": null,
            "max_width": null,
            "order": null,
            "_view_module_version": "1.2.0",
            "grid_template_areas": null,
            "object_position": null,
            "object_fit": null,
            "grid_auto_columns": null,
            "margin": null,
            "display": null,
            "left": null
          }
        },
        "0e1e88327b9a49f49ef6a02267f6c883": {
          "model_module": "@jupyter-widgets/controls",
          "model_name": "DescriptionStyleModel",
          "state": {
            "_view_name": "StyleView",
            "_model_name": "DescriptionStyleModel",
            "description_width": "",
            "_view_module": "@jupyter-widgets/base",
            "_model_module_version": "1.5.0",
            "_view_count": null,
            "_view_module_version": "1.2.0",
            "_model_module": "@jupyter-widgets/controls"
          }
        },
        "9015c93a99f74925b7e0154ae23266c2": {
          "model_module": "@jupyter-widgets/base",
          "model_name": "LayoutModel",
          "state": {
            "_view_name": "LayoutView",
            "grid_template_rows": null,
            "right": null,
            "justify_content": null,
            "_view_module": "@jupyter-widgets/base",
            "overflow": null,
            "_model_module_version": "1.2.0",
            "_view_count": null,
            "flex_flow": null,
            "width": null,
            "min_width": null,
            "border": null,
            "align_items": null,
            "bottom": null,
            "_model_module": "@jupyter-widgets/base",
            "top": null,
            "grid_column": null,
            "overflow_y": null,
            "overflow_x": null,
            "grid_auto_flow": null,
            "grid_area": null,
            "grid_template_columns": null,
            "flex": null,
            "_model_name": "LayoutModel",
            "justify_items": null,
            "grid_row": null,
            "max_height": null,
            "align_content": null,
            "visibility": null,
            "align_self": null,
            "height": null,
            "min_height": null,
            "padding": null,
            "grid_auto_rows": null,
            "grid_gap": null,
            "max_width": null,
            "order": null,
            "_view_module_version": "1.2.0",
            "grid_template_areas": null,
            "object_position": null,
            "object_fit": null,
            "grid_auto_columns": null,
            "margin": null,
            "display": null,
            "left": null
          }
        }
      }
    }
  },
  "cells": [
    {
      "cell_type": "code",
      "metadata": {
        "id": "lBGDkQg03-kk",
        "colab_type": "code",
        "colab": {}
      },
      "source": [
        "import numpy as np\n",
        "import math\n",
        "import torch\n",
        "import torchvision\n",
        "import torchvision.transforms as transforms"
      ],
      "execution_count": 0,
      "outputs": []
    },
    {
      "cell_type": "code",
      "metadata": {
        "id": "6SThknWY5oD7",
        "colab_type": "code",
        "outputId": "a323e2c7-c59e-468d-e7e7-73a19981749d",
        "colab": {
          "base_uri": "https://localhost:8080/",
          "height": 104,
          "referenced_widgets": [
            "479f7d41e2fb4381a4aeded116631c1c",
            "642eedd0d3c44b20b90789cdf48a8a4b",
            "003f1bdcff104fe7816b3b61a8d1d7cc",
            "762ef018f57f46eeb8abe7f33e14109e",
            "6d62e0ea4cb048909091d821fb2c756c",
            "bc3c3bad08da4cc883de875e0bf336b2",
            "0e1e88327b9a49f49ef6a02267f6c883",
            "9015c93a99f74925b7e0154ae23266c2"
          ]
        }
      },
      "source": [
        "transform = transforms.Compose(\n",
        "    [transforms.ToTensor(),\n",
        "     transforms.Normalize((0.5, 0.5, 0.5), (0.5, 0.5, 0.5))])\n",
        "\n",
        "trainset = torchvision.datasets.CIFAR10(root='./data', train=True,\n",
        "                                        download=True, transform=transform)\n",
        "trainloader = torch.utils.data.DataLoader(trainset,\n",
        "                                          shuffle=True, num_workers=2)\n",
        "\n",
        "testset = torchvision.datasets.CIFAR10(root='./data', train=False,\n",
        "                                       download=True, transform=transform)\n",
        "testloader = torch.utils.data.DataLoader(testset,\n",
        "                                         shuffle=False, num_workers=2)\n",
        "\n",
        "classes = ('plane', 'car', 'bird', 'cat',\n",
        "           'deer', 'dog', 'frog', 'horse', 'ship', 'truck')"
      ],
      "execution_count": 6,
      "outputs": [
        {
          "output_type": "stream",
          "text": [
            "Downloading https://www.cs.toronto.edu/~kriz/cifar-10-python.tar.gz to ./data/cifar-10-python.tar.gz\n"
          ],
          "name": "stdout"
        },
        {
          "output_type": "display_data",
          "data": {
            "application/vnd.jupyter.widget-view+json": {
              "model_id": "479f7d41e2fb4381a4aeded116631c1c",
              "version_minor": 0,
              "version_major": 2
            },
            "text/plain": [
              "HBox(children=(IntProgress(value=1, bar_style='info', max=1), HTML(value='')))"
            ]
          },
          "metadata": {
            "tags": []
          }
        },
        {
          "output_type": "stream",
          "text": [
            "Extracting ./data/cifar-10-python.tar.gz to ./data\n",
            "Files already downloaded and verified\n"
          ],
          "name": "stdout"
        }
      ]
    },
    {
      "cell_type": "code",
      "metadata": {
        "id": "HEJ7MRRR6XV3",
        "colab_type": "code",
        "outputId": "c763666b-7ede-41d1-fbaf-5092084a3ec8",
        "colab": {
          "base_uri": "https://localhost:8080/",
          "height": 284
        }
      },
      "source": [
        "#https://pytorch.org/tutorials/beginner/blitz/cifar10_tutorial.html\n",
        "#Let us show some of the training images, for fun.\n",
        "import matplotlib.pyplot as plt\n",
        "import numpy as np\n",
        "\n",
        "# functions to show an image\n",
        "\n",
        "\n",
        "def imshow(img):\n",
        "    img = img / 2 + 0.5     # unnormalize\n",
        "    npimg = img.numpy()\n",
        "    plt.imshow(np.transpose(npimg, (1, 2, 0)))\n",
        "\n",
        "\n",
        "# get some random training images\n",
        "dataiter = iter(trainloader)\n",
        "images, labels = dataiter.next()\n",
        "\n",
        "# show images\n",
        "imshow(torchvision.utils.make_grid(images))\n",
        "# print labels\n",
        "print(' '.join('%5s' % classes[labels[j]] for j in range(1)))"
      ],
      "execution_count": 7,
      "outputs": [
        {
          "output_type": "stream",
          "text": [
            " ship\n"
          ],
          "name": "stdout"
        },
        {
          "output_type": "display_data",
          "data": {
            "image/png": "[encoded data removed]",
            "text/plain": [
              "<Figure size 432x288 with 1 Axes>"
            ]
          },
          "metadata": {
            "tags": []
          }
        }
      ]
    },
    {
      "cell_type": "code",
      "metadata": {
        "id": "lkKhhsWWPyV9",
        "colab_type": "code",
        "outputId": "05508b82-b8e9-453e-ce76-2122c3753578",
        "colab": {
          "base_uri": "https://localhost:8080/",
          "height": 109
        }
      },
      "source": [
        "#getting the x(2d matrix of 50000*3072, input images), and y(1*3072, output label);\n",
        "tmpTrain = trainloader.dataset.data # shape of 50000*32*32*3 need to transform to 50000*3072\n",
        "x,y1,y2,y3 = tmpTrain.shape\n",
        "trainX = np.zeros([x, y1*y2*y3])\n",
        "tmpTrainY = trainloader.dataset.targets\n",
        "trainY = np.zeros([len(tmpTrainY), len(classes)])\n",
        "for i in range(len(tmpTrainY)):\n",
        "  trainY[i][tmpTrainY[i]] = 1\n",
        "tmpTest = testloader.dataset.data # shape of 10000*32*32*3 need to transform to 10000*3072\n",
        "xx, y4, y5, y6 = tmpTest.shape\n",
        "testY = testloader.dataset.targets\n",
        "testX = np.zeros([xx, y4*y5*y6])\n",
        "for i in range(x):\n",
        "  trainX[i] = tmpTrain[i].flatten()\n",
        "\n",
        "for j in range(xx):\n",
        "  testX[j] = tmpTest[j].flatten()\n",
        "\n",
        "print(\"the shape of matrix trainX\" + str(trainX.shape))\n",
        "print(\"the size of trainY \" + str(trainY.shape))\n",
        "print(\"the shape of matrix testX\" + str(testX.shape))\n",
        "print(\"the size of testY \" + str(len(testY)))\n",
        "\n",
        "\n"
      ],
      "execution_count": 11,
      "outputs": [
        {
          "output_type": "stream",
          "text": [
            "the shape of matrix trainX(50000, 3072)\n",
            "the size of trainY (50000, 10)\n",
            "[0. 0. 1. 0. 0. 0. 0. 0. 0. 0.]\n",
            "the shape of matrix testX(10000, 3072)\n",
            "the size of testY 10000\n"
          ],
          "name": "stdout"
        }
      ]
    },
    {
      "cell_type": "code",
      "metadata": {
        "id": "6rFqSD03GiWM",
        "colab_type": "code",
        "colab": {
          "base_uri": "https://localhost:8080/",
          "height": 35
        },
        "outputId": "bb2be863-96c8-4586-a0c3-00947f6660be"
      },
      "source": [
        "#activation functions\n",
        "\n",
        "def relu(x):\n",
        "    if x > 0:\n",
        "      return x\n",
        "    else:\n",
        "      return 0\n",
        "\n",
        "def sigmoid(x):\n",
        "  return 1/(1+math.exp(-x))\n",
        "\n",
        "print(sigmoid(500))"
      ],
      "execution_count": 5,
      "outputs": [
        {
          "output_type": "stream",
          "text": [
            "1.0\n"
          ],
          "name": "stdout"
        }
      ]
    },
    {
      "cell_type": "code",
      "metadata": {
        "id": "D5kBvCH1PwjL",
        "colab_type": "code",
        "colab": {
          "base_uri": "https://localhost:8080/",
          "height": 35
        },
        "outputId": "5c81481a-8bf9-4df5-98ea-d80add576a79"
      },
      "source": [
        "#define weights for different layers, put them in a list called Ws, each weight has a shape of size(l-1)*size(l)\n",
        "layerNumber = [1000, 300, 100, 50] #number of layers and number of nodes in each layer\n",
        "AV = ReLU #activation function that we use \n",
        "Ws = []\n",
        "bs = []\n",
        "N,D = trainX.shape\n",
        "start = D\n",
        "N,DD =trainY.shape\n",
        "end = layerNumber[0]\n",
        "Ws.append(np.zeros([start, end]))\n",
        "bs.append(np.zeros([end]))\n",
        "for i in range(len(layerNumber)):\n",
        "  start = layerNumber[i]\n",
        "  if i+1 == len(layerNumber):\n",
        "    end = DD\n",
        "  else:\n",
        "    end = layerNumber[i+1]\n",
        "  Ws.append(np.zeros([start,end]))\n",
        "  bs.append(np.zeros([end]))\n",
        "\n",
        "print(str(bs[2].shape))"
      ],
      "execution_count": 54,
      "outputs": [
        {
          "output_type": "stream",
          "text": [
            "(100,)\n"
          ],
          "name": "stdout"
        }
      ]
    },
    {
      "cell_type": "code",
      "metadata": {
        "id": "S8eu-zmmTTA5",
        "colab_type": "code",
        "colab": {
          "base_uri": "https://localhost:8080/",
          "height": 146
        },
        "outputId": "13ad9ec2-dce5-4d59-94b5-8fb30cc35a18"
      },
      "source": [
        "def getOneLineY(X):\n",
        "  Y = []\n",
        "  tmp = X\n",
        "  for i in range(len(Ws)-1):\n",
        "    tmp = np.array([AV(xi) for xi in np.dot(tmp, Ws[i])+bs[i]])\n",
        "  Y = np.array([sigmoid(xi) for xi in np.dot(tmp, Ws[len(Ws)-1])+bs[len(bs)-1]])\n",
        "  return Y\n",
        "\n",
        "def getYhead(X):\n",
        "    N,D = X.shape\n",
        "    Yhead = np.zeros([N, len(classes)])\n",
        "    Yhead = np.array([getOneLineY(x) for x in X])\n",
        "    return Yhead\n",
        "\n",
        "print(getYhead(trainX))\n",
        "\n"
      ],
      "execution_count": 55,
      "outputs": [
        {
          "output_type": "stream",
          "text": [
            "[[0.5 0.5 0.5 ... 0.5 0.5 0.5]\n",
            " [0.5 0.5 0.5 ... 0.5 0.5 0.5]\n",
            " [0.5 0.5 0.5 ... 0.5 0.5 0.5]\n",
            " ...\n",
            " [0.5 0.5 0.5 ... 0.5 0.5 0.5]\n",
            " [0.5 0.5 0.5 ... 0.5 0.5 0.5]\n",
            " [0.5 0.5 0.5 ... 0.5 0.5 0.5]]\n"
          ],
          "name": "stdout"
        }
      ]
    },
    {
      "cell_type": "code",
      "metadata": {
        "id": "BUzlEIeXWltp",
        "colab_type": "code",
        "colab": {
          "base_uri": "https://localhost:8080/",
          "height": 382
        },
        "outputId": "32c4ee0b-b595-4718-cd68-735a4f473716"
      },
      "source": [
        "#Cost of one training result\n",
        "def cost(Y1, Y2):\n",
        "  total = 0.0\n",
        "  for i in range(len(Y1)):\n",
        "    total = total + (Y1[i]-Y2[i])**2\n",
        "  return total\n",
        "\n",
        "\n",
        "#Average cost of all training result\n",
        "def averageCost(Y1, Y2):\n",
        "  N,D = Y1.shape\n",
        "  total = 0.0\n",
        "  for i in range(N):\n",
        "    total = total + cost(Y1[i],Y2[i])\n",
        "  return total/N\n",
        "\n",
        "yHead = getYhead(trainX)\n",
        "print(\"cost is \", averageCost(yHead, testY))\n",
        "  "
      ],
      "execution_count": 56,
      "outputs": [
        {
          "output_type": "error",
          "ename": "TypeError",
          "evalue": "ignored",
          "traceback": [
            "\u001b[0;31m---------------------------------------------------------------------------\u001b[0m",
            "\u001b[0;31mTypeError\u001b[0m                                 Traceback (most recent call last)",
            "\u001b[0;32m<ipython-input-56-708ad8ea4644>\u001b[0m in \u001b[0;36m<module>\u001b[0;34m()\u001b[0m\n\u001b[1;32m     15\u001b[0m \u001b[0;34m\u001b[0m\u001b[0m\n\u001b[1;32m     16\u001b[0m \u001b[0myHead\u001b[0m \u001b[0;34m=\u001b[0m \u001b[0mgetYhead\u001b[0m\u001b[0;34m(\u001b[0m\u001b[0mtrainX\u001b[0m\u001b[0;34m)\u001b[0m\u001b[0;34m\u001b[0m\u001b[0;34m\u001b[0m\u001b[0m\n\u001b[0;32m---> 17\u001b[0;31m \u001b[0mprint\u001b[0m\u001b[0;34m(\u001b[0m\u001b[0;34m\"cost is \"\u001b[0m\u001b[0;34m,\u001b[0m \u001b[0maverageCost\u001b[0m\u001b[0;34m(\u001b[0m\u001b[0myHead\u001b[0m\u001b[0;34m,\u001b[0m \u001b[0mtestY\u001b[0m\u001b[0;34m)\u001b[0m\u001b[0;34m)\u001b[0m\u001b[0;34m\u001b[0m\u001b[0;34m\u001b[0m\u001b[0m\n\u001b[0m\u001b[1;32m     18\u001b[0m \u001b[0;34m\u001b[0m\u001b[0m\n",
            "\u001b[0;32m<ipython-input-56-708ad8ea4644>\u001b[0m in \u001b[0;36maverageCost\u001b[0;34m(Y1, Y2)\u001b[0m\n\u001b[1;32m     11\u001b[0m   \u001b[0mtotal\u001b[0m \u001b[0;34m=\u001b[0m \u001b[0;36m0.0\u001b[0m\u001b[0;34m\u001b[0m\u001b[0;34m\u001b[0m\u001b[0m\n\u001b[1;32m     12\u001b[0m   \u001b[0;32mfor\u001b[0m \u001b[0mi\u001b[0m \u001b[0;32min\u001b[0m \u001b[0mrange\u001b[0m\u001b[0;34m(\u001b[0m\u001b[0mN\u001b[0m\u001b[0;34m)\u001b[0m\u001b[0;34m:\u001b[0m\u001b[0;34m\u001b[0m\u001b[0;34m\u001b[0m\u001b[0m\n\u001b[0;32m---> 13\u001b[0;31m     \u001b[0mtotal\u001b[0m \u001b[0;34m=\u001b[0m \u001b[0mtotal\u001b[0m \u001b[0;34m+\u001b[0m \u001b[0mcost\u001b[0m\u001b[0;34m(\u001b[0m\u001b[0mY1\u001b[0m\u001b[0;34m[\u001b[0m\u001b[0mi\u001b[0m\u001b[0;34m]\u001b[0m\u001b[0;34m,\u001b[0m\u001b[0mY2\u001b[0m\u001b[0;34m[\u001b[0m\u001b[0mi\u001b[0m\u001b[0;34m]\u001b[0m\u001b[0;34m)\u001b[0m\u001b[0;34m\u001b[0m\u001b[0;34m\u001b[0m\u001b[0m\n\u001b[0m\u001b[1;32m     14\u001b[0m   \u001b[0;32mreturn\u001b[0m \u001b[0mtotal\u001b[0m\u001b[0;34m/\u001b[0m\u001b[0mN\u001b[0m\u001b[0;34m\u001b[0m\u001b[0;34m\u001b[0m\u001b[0m\n\u001b[1;32m     15\u001b[0m \u001b[0;34m\u001b[0m\u001b[0m\n",
            "\u001b[0;32m<ipython-input-56-708ad8ea4644>\u001b[0m in \u001b[0;36mcost\u001b[0;34m(Y1, Y2)\u001b[0m\n\u001b[1;32m      2\u001b[0m   \u001b[0mtotal\u001b[0m \u001b[0;34m=\u001b[0m \u001b[0;36m0.0\u001b[0m\u001b[0;34m\u001b[0m\u001b[0;34m\u001b[0m\u001b[0m\n\u001b[1;32m      3\u001b[0m   \u001b[0;32mfor\u001b[0m \u001b[0mi\u001b[0m \u001b[0;32min\u001b[0m \u001b[0mrange\u001b[0m\u001b[0;34m(\u001b[0m\u001b[0mlen\u001b[0m\u001b[0;34m(\u001b[0m\u001b[0mY1\u001b[0m\u001b[0;34m)\u001b[0m\u001b[0;34m)\u001b[0m\u001b[0;34m:\u001b[0m\u001b[0;34m\u001b[0m\u001b[0;34m\u001b[0m\u001b[0m\n\u001b[0;32m----> 4\u001b[0;31m     \u001b[0mtotal\u001b[0m \u001b[0;34m=\u001b[0m \u001b[0mtotal\u001b[0m \u001b[0;34m+\u001b[0m \u001b[0;34m(\u001b[0m\u001b[0mY1\u001b[0m\u001b[0;34m[\u001b[0m\u001b[0mi\u001b[0m\u001b[0;34m]\u001b[0m\u001b[0;34m-\u001b[0m\u001b[0mY2\u001b[0m\u001b[0;34m[\u001b[0m\u001b[0mi\u001b[0m\u001b[0;34m]\u001b[0m\u001b[0;34m)\u001b[0m\u001b[0;34m**\u001b[0m\u001b[0;36m2\u001b[0m\u001b[0;34m\u001b[0m\u001b[0;34m\u001b[0m\u001b[0m\n\u001b[0m\u001b[1;32m      5\u001b[0m   \u001b[0;32mreturn\u001b[0m \u001b[0mtotal\u001b[0m\u001b[0;34m\u001b[0m\u001b[0;34m\u001b[0m\u001b[0m\n\u001b[1;32m      6\u001b[0m \u001b[0;34m\u001b[0m\u001b[0m\n",
            "\u001b[0;31mTypeError\u001b[0m: 'int' object is not subscriptable"
          ]
        }
      ]
    },
    {
      "cell_type": "code",
      "metadata": {
        "id": "q0cngWwPgyDg",
        "colab_type": "code",
        "colab": {}
      },
      "source": [
        "def gradient(X, Y):\n",
        "  #todo, find the gradient using X,Y and Ws, bs on the top, with backpropagation\n",
        "  return 0\n",
        "\n",
        "def fit(learningRate):\n",
        "  N,D = X.shape\n",
        "  g = np.inf\n",
        "  while np.linalg.norm(g) > eps:\n",
        "    minibatch = np.random.randint(N, size=(bsize))\n",
        "    g = gradient(X[minibatch,:], y[minibatch])\n",
        "    w = w - lr*g\n",
        "\n",
        "def getBiggestY(Y)\n",
        "  result = []\n",
        "  N,D = Y.shape\n",
        "  for(i in range(N)):\n",
        "    biggest = 0\n",
        "    biggestNum = 0\n",
        "    for(j in range(D)):\n",
        "      if(Y[i][j]>biggest):\n",
        "        biggestNum = j\n",
        "        biggest = Y[i][j]\n",
        "      result.append[biggestNum]\n",
        "  return result\n",
        "\n",
        "def predict(testX, testY):\n",
        "  yHead = getYhead(testX)\n",
        "  yResult = getBiggestY(yHead)\n",
        "  totalRight = 0.0\n",
        "  for(i in range(len(testY))):\n",
        "    if(yResult[i] == testY[i]):\n",
        "      totalRight = totalRight+1\n",
        "  return totalRight/len(testY)\n"
      ],
      "execution_count": 0,
      "outputs": []
    }
  ]
}